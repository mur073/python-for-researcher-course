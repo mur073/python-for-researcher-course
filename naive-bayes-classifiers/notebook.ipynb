{
 "cells": [
  {
   "cell_type": "code",
   "execution_count": 110,
   "metadata": {},
   "outputs": [],
   "source": [
    "import numpy as np\n",
    "from scipy.special import logsumexp"
   ]
  },
  {
   "cell_type": "code",
   "execution_count": 5,
   "metadata": {},
   "outputs": [],
   "source": [
    "path_to_data = '../datasets/mnist.npz'"
   ]
  },
  {
   "cell_type": "code",
   "execution_count": 94,
   "metadata": {},
   "outputs": [],
   "source": [
    "def load_train_test_data(path):\n",
    "    with np.load(path) as f:\n",
    "        x_train = f['x_train']\n",
    "        x_test = f['x_test']\n",
    "        y_train = f['y_train']\n",
    "        y_test = f['y_test']\n",
    "    return x_train, x_test, y_train, y_test"
   ]
  },
  {
   "cell_type": "code",
   "execution_count": 95,
   "metadata": {},
   "outputs": [],
   "source": [
    "x_train, x_test, y_train, y_test = load_train_test_data(path_to_data)"
   ]
  },
  {
   "cell_type": "code",
   "execution_count": 102,
   "metadata": {},
   "outputs": [],
   "source": [
    "x_train = x_train.reshape((x_train.shape[0], -1))\n",
    "x_test = x_test.reshape((x_test.shape[0], -1))\n",
    "\n",
    "x_train = x_train / 255.0\n",
    "x_test = x_test / 255.0"
   ]
  },
  {
   "cell_type": "code",
   "execution_count": null,
   "metadata": {},
   "outputs": [],
   "source": [
    "class GaussianNB:\n",
    "    def __init__(self):\n",
    "        self.means = None\n",
    "        self.stds = None\n",
    "        self.priors = None\n",
    "    \n",
    "    def fit(self, X, y):\n",
    "        means = []\n",
    "        stds = []\n",
    "        priors = []\n",
    "        \n",
    "        for i in range(10):\n",
    "            X_i = X[y == i]\n",
    "            means.append(np.mean(X_i, axis=0))\n",
    "            stds.append(np.var(X_i, axis=0, ddof=1) + 10e-3)\n",
    "            priors.append(len(X_i) / len(X))\n",
    "        \n",
    "        self.means = np.array(means)\n",
    "        self.stds = np.array(stds)\n",
    "        self.priors = np.array(priors)\n",
    "        \n",
    "    def _joint_log_likelihood(self, x):\n",
    "        n_features = x.shape[0]\n",
    "        \n",
    "        log_likelihood = np.zeros(10)\n",
    "        \n",
    "        for k in range(10):\n",
    "            proba = 0\n",
    "            for i in range(n_features):\n",
    "                proba += -0.5 * np.log(2 * np.pi * self.stds[k][i])\n",
    "                proba += -0.5 * ((x[i] - self.means[k][i]) ** 2) / self.stds[k][i]\n",
    "                \n",
    "            log_likelihood[k] = proba + np.log(self.priors[k])\n",
    "        return log_likelihood        \n",
    "    \n",
    "    def predict_log_proba(self, X):\n",
    "        n_samples = X.shape[0]\n",
    "        \n",
    "        log_likelihoods = np.zeros((n_samples, 10))\n",
    "        \n",
    "        for i in range(n_samples):\n",
    "            log_likelihoods[i] = self._joint_log_likelihood(X[i])\n",
    "        \n",
    "        return log_likelihoods\n",
    "\n",
    "    def predict_proba(self, X):\n",
    "        jll = self.predict_log_proba(X)\n",
    "        log_prob_x = logsumexp(jll, axis=1)\n",
    "    \n",
    "        return np.exp(jll - log_prob_x.T)\n",
    "        \n",
    "    def predict(self, X):\n",
    "        return np.argmax(self.predict_log_proba(X), axis=1)\n",
    "    \n",
    "    def score(self, X, y):\n",
    "        return np.mean(self.predict(X) == y)\n",
    "    \n"
   ]
  },
  {
   "cell_type": "code",
   "execution_count": 133,
   "metadata": {},
   "outputs": [
    {
     "name": "stdout",
     "output_type": "stream",
     "text": [
      "Accuracy score: 0.7234\n"
     ]
    }
   ],
   "source": [
    "model = GaussianNB()\n",
    "model.fit(x_train, y_train)\n",
    "\n",
    "accuracy = model.score(x_test, y_test)\n",
    "print(f'Accuracy score: {accuracy}')"
   ]
  },
  {
   "cell_type": "code",
   "execution_count": 140,
   "metadata": {},
   "outputs": [
    {
     "data": {
      "text/plain": [
       "1.0"
      ]
     },
     "execution_count": 140,
     "metadata": {},
     "output_type": "execute_result"
    }
   ],
   "source": [
    "np.sum(model.predict_proba(x_test[:1]))"
   ]
  },
  {
   "cell_type": "code",
   "execution_count": null,
   "metadata": {},
   "outputs": [],
   "source": []
  }
 ],
 "metadata": {
  "kernelspec": {
   "display_name": "base",
   "language": "python",
   "name": "python3"
  },
  "language_info": {
   "codemirror_mode": {
    "name": "ipython",
    "version": 3
   },
   "file_extension": ".py",
   "mimetype": "text/x-python",
   "name": "python",
   "nbconvert_exporter": "python",
   "pygments_lexer": "ipython3",
   "version": "3.12.4"
  }
 },
 "nbformat": 4,
 "nbformat_minor": 2
}
